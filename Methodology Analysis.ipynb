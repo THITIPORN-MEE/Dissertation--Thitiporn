{
 "cells": [
  {
   "cell_type": "code",
   "execution_count": 91,
   "id": "45bd75c1",
   "metadata": {},
   "outputs": [],
   "source": [
    "import pandas as pd\n",
    "import matplotlib.pyplot as plt\n",
    "import seaborn as sns\n",
    "import matplotlib.pyplot as plt\n",
    "import numpy as np\n",
    "import statsmodels.formula.api as smf\n",
    "import statsmodels.api as sm\n",
    "\n",
    "from sklearn.preprocessing import LabelEncoder\n",
    "from statsmodels.miscmodels.ordinal_model import OrderedModel\n",
    "from scipy.stats import chi2_contingency\n",
    "from sklearn.model_selection import train_test_split\n",
    "from sklearn.ensemble import RandomForestClassifier\n",
    "from sklearn.preprocessing import LabelEncoder, StandardScaler\n",
    "from statsmodels.stats.outliers_influence import variance_inflation_factor\n",
    "from statsmodels.tools.tools import add_constant\n",
    "from statsmodels.stats.multitest import multipletests\n",
    "from scipy.stats import chi2_contingency\n",
    "\n"
   ]
  },
  {
   "cell_type": "code",
   "execution_count": 69,
   "id": "aed0ea0e",
   "metadata": {},
   "outputs": [],
   "source": [
    "# Define the file path\n",
    "file_path = 'Dataset Obesity Raw.csv'"
   ]
  },
  {
   "cell_type": "code",
   "execution_count": 73,
   "id": "459699ac",
   "metadata": {
    "scrolled": true
   },
   "outputs": [
    {
     "name": "stdout",
     "output_type": "stream",
     "text": [
      "      Gender  Age Family History with Overweight  How many main meals  \\\n",
      "0     Female   21                            yes                    3   \n",
      "1     Female   21                            yes                    3   \n",
      "2       Male   23                            yes                    3   \n",
      "3       Male   27                             no                    3   \n",
      "4       Male   22                             no                    1   \n",
      "...      ...  ...                            ...                  ...   \n",
      "2105  Female   20                            yes                    3   \n",
      "2106  Female   21                            yes                    3   \n",
      "2107  Female   22                            yes                    3   \n",
      "2108  Female   24                            yes                    3   \n",
      "2109  Female   23                            yes                    3   \n",
      "\n",
      "     Eat Between Meals Drinking water Technological Devices  \\\n",
      "0            Sometimes         Medium                  More   \n",
      "1            Sometimes           More                   Low   \n",
      "2            Sometimes         Medium                Medium   \n",
      "3            Sometimes         Medium                   Low   \n",
      "4            Sometimes         Medium                   Low   \n",
      "...                ...            ...                   ...   \n",
      "2105         Sometimes            Low                   Low   \n",
      "2106         Sometimes            Low                   Low   \n",
      "2107         Sometimes         Medium                   Low   \n",
      "2108         Sometimes         Medium                   Low   \n",
      "2109         Sometimes         Medium                   Low   \n",
      "\n",
      "     Usually Transportation Type    Obesity Levels  \n",
      "0          Public_Transportation     Normal_Weight  \n",
      "1          Public_Transportation     Normal_Weight  \n",
      "2          Public_Transportation     Normal_Weight  \n",
      "3                        Walking        Preobesity  \n",
      "4          Public_Transportation        Preobesity  \n",
      "...                          ...               ...  \n",
      "2105       Public_Transportation  Obesity_Type_III  \n",
      "2106       Public_Transportation  Obesity_Type_III  \n",
      "2107       Public_Transportation  Obesity_Type_III  \n",
      "2108       Public_Transportation  Obesity_Type_III  \n",
      "2109       Public_Transportation  Obesity_Type_III  \n",
      "\n",
      "[2110 rows x 9 columns]\n"
     ]
    }
   ],
   "source": [
    "# Load the dataset from the Excel file\n",
    "data = pd.read_csv(file_path)\n",
    "\n",
    "# Display the dataset\n",
    "print(data)"
   ]
  },
  {
   "cell_type": "code",
   "execution_count": 72,
   "id": "be6be8fb",
   "metadata": {},
   "outputs": [
    {
     "name": "stdout",
     "output_type": "stream",
     "text": [
      "\n",
      "Missing values in the dataset:\n",
      "Gender                            0\n",
      "Age                               0\n",
      "Family History with Overweight    0\n",
      "How many main meals               0\n",
      "Eat Between Meals                 0\n",
      "Drinking water                    0\n",
      "Technological Devices             0\n",
      "Usually Transportation Type       0\n",
      "Obesity Levels                    0\n",
      "dtype: int64\n"
     ]
    }
   ],
   "source": [
    "# Check for missing values in the dataset\n",
    "missing_values = data.isnull().sum()\n",
    "\n",
    "# Display missing values\n",
    "print(\"\\nMissing values in the dataset:\")\n",
    "print(missing_values)"
   ]
  },
  {
   "cell_type": "code",
   "execution_count": 74,
   "id": "083fc8ea",
   "metadata": {},
   "outputs": [],
   "source": [
    "# Encode categorical variables\n",
    "label_encoder = LabelEncoder()"
   ]
  },
  {
   "cell_type": "code",
   "execution_count": 75,
   "id": "42e6ecd2",
   "metadata": {},
   "outputs": [
    {
     "name": "stdout",
     "output_type": "stream",
     "text": [
      "\n",
      "Encoded Data:\n",
      "   Gender  Age Family History with Overweight  How many main meals  \\\n",
      "0  Female   21                            yes                    3   \n",
      "1  Female   21                            yes                    3   \n",
      "2    Male   23                            yes                    3   \n",
      "3    Male   27                             no                    3   \n",
      "4    Male   22                             no                    1   \n",
      "\n",
      "  Eat Between Meals Drinking water Technological Devices  \\\n",
      "0         Sometimes         Medium                  More   \n",
      "1         Sometimes           More                   Low   \n",
      "2         Sometimes         Medium                Medium   \n",
      "3         Sometimes         Medium                   Low   \n",
      "4         Sometimes         Medium                   Low   \n",
      "\n",
      "  Usually Transportation Type Obesity Levels  \n",
      "0       Public_Transportation  Normal_Weight  \n",
      "1       Public_Transportation  Normal_Weight  \n",
      "2       Public_Transportation  Normal_Weight  \n",
      "3                     Walking     Preobesity  \n",
      "4       Public_Transportation     Preobesity  \n"
     ]
    }
   ],
   "source": [
    "# Display the encoded data\n",
    "print(\"\\nEncoded Data:\")\n",
    "print(data.head())"
   ]
  },
  {
   "cell_type": "code",
   "execution_count": 76,
   "id": "d91a73c0",
   "metadata": {},
   "outputs": [],
   "source": [
    "# Encode the target variable 'Obesity Levels'\n",
    "data['Obesity Levels'] = label_encoder.fit_transform(data['Obesity Levels'])"
   ]
  },
  {
   "cell_type": "code",
   "execution_count": 77,
   "id": "65c1bbe7",
   "metadata": {},
   "outputs": [],
   "source": [
    "# List of categorical variables to encode\n",
    "categorical_vars = ['Gender', 'Family History with Overweight', 'Eat Between Meals', 'Drinking water', 'Technological Devices', 'Usually Transportation Type']\n"
   ]
  },
  {
   "cell_type": "code",
   "execution_count": 78,
   "id": "137ce688",
   "metadata": {},
   "outputs": [],
   "source": [
    "# Encode the categorical variables\n",
    "for var in categorical_vars:\n",
    "    data[var] = label_encoder.fit_transform(data[var])\n"
   ]
  },
  {
   "cell_type": "code",
   "execution_count": 79,
   "id": "a98a7638",
   "metadata": {},
   "outputs": [],
   "source": [
    "# Define the independent variables (X) and the dependent variable (y)\n",
    "X = data.drop(columns=['Obesity Levels'])\n",
    "y = data['Obesity Levels']"
   ]
  },
  {
   "cell_type": "markdown",
   "id": "fc437bc9",
   "metadata": {},
   "source": [
    "# 1. Ordinal Logistic Regression"
   ]
  },
  {
   "cell_type": "code",
   "execution_count": 80,
   "id": "54f1db6c",
   "metadata": {
    "scrolled": true
   },
   "outputs": [
    {
     "name": "stdout",
     "output_type": "stream",
     "text": [
      "Optimization terminated successfully.\n",
      "         Current function value: 1.614588\n",
      "         Iterations: 43\n",
      "         Function evaluations: 47\n",
      "         Gradient evaluations: 47\n",
      "                             OrderedModel Results                             \n",
      "==============================================================================\n",
      "Dep. Variable:         Obesity Levels   Log-Likelihood:                -3406.8\n",
      "Model:                   OrderedModel   AIC:                             6840.\n",
      "Method:            Maximum Likelihood   BIC:                             6913.\n",
      "Date:                Fri, 30 Aug 2024                                         \n",
      "Time:                        16:43:30                                         \n",
      "No. Observations:                2110                                         \n",
      "Df Residuals:                    2097                                         \n",
      "Df Model:                           8                                         \n",
      "==================================================================================================\n",
      "                                     coef    std err          z      P>|z|      [0.025      0.975]\n",
      "--------------------------------------------------------------------------------------------------\n",
      "Gender                            -0.0631      0.082     -0.771      0.441      -0.223       0.097\n",
      "Age                                0.0469      0.007      6.508      0.000       0.033       0.061\n",
      "Family History with Overweight     1.5419      0.121     12.756      0.000       1.305       1.779\n",
      "How many main meals               -0.1752      0.050     -3.499      0.000      -0.273      -0.077\n",
      "Eat Between Meals                  1.1919      0.098     12.104      0.000       0.999       1.385\n",
      "Drinking water                     0.1957      0.068      2.888      0.004       0.063       0.328\n",
      "Technological Devices             -0.4499      0.075     -5.966      0.000      -0.598      -0.302\n",
      "Usually Transportation Type        0.0649      0.034      1.899      0.058      -0.002       0.132\n",
      "0/1                                1.8925      0.316      5.987      0.000       1.273       2.512\n",
      "1/2                                0.2551      0.055      4.649      0.000       0.148       0.363\n",
      "2/3                                0.0554      0.049      1.126      0.260      -0.041       0.152\n",
      "3/4                               -0.2976      0.051     -5.834      0.000      -0.398      -0.198\n",
      "4/5                               -0.4982      0.058     -8.583      0.000      -0.612      -0.384\n",
      "==================================================================================================\n"
     ]
    }
   ],
   "source": [
    "# Fit the ordinal logit model\n",
    "model = OrderedModel(y, X, distr='logit')\n",
    "result = model.fit(method='bfgs')\n",
    "\n",
    "# Display the summary of the model\n",
    "print(result.summary())"
   ]
  },
  {
   "cell_type": "code",
   "execution_count": 81,
   "id": "dac24c63",
   "metadata": {},
   "outputs": [
    {
     "name": "stdout",
     "output_type": "stream",
     "text": [
      "\n",
      "Odds Ratios:\n",
      "                            Factor  Odds Ratio\n",
      "0                           Gender    0.938883\n",
      "1                              Age    1.048016\n",
      "2   Family History with Overweight    4.673567\n",
      "3              How many main meals    0.839259\n",
      "4                Eat Between Meals    3.293258\n",
      "5                   Drinking water    1.216131\n",
      "6            Technological Devices    0.637700\n",
      "7      Usually Transportation Type    1.067026\n",
      "8                              0/1    6.635886\n",
      "9                              1/2    1.290611\n",
      "10                             2/3    1.056995\n",
      "11                             3/4    0.742601\n",
      "12                             4/5    0.607613\n"
     ]
    }
   ],
   "source": [
    "# Compute odds ratios\n",
    "params = result.params\n",
    "odds_ratios = np.exp(params)\n",
    "\n",
    "# Create a DataFrame for better visualization\n",
    "odds_ratios_df = pd.DataFrame({\n",
    "    'Factor': odds_ratios.index,\n",
    "    'Odds Ratio': odds_ratios.values\n",
    "})\n",
    "\n",
    "# Print the odds ratios\n",
    "print(\"\\nOdds Ratios:\")\n",
    "print(odds_ratios_df)"
   ]
  },
  {
   "cell_type": "code",
   "execution_count": 14,
   "id": "786e2de2",
   "metadata": {},
   "outputs": [
    {
     "name": "stdout",
     "output_type": "stream",
     "text": [
      "Accuracy: 0.3090047393364929\n",
      "Classification Report:\n",
      "               precision    recall  f1-score   support\n",
      "\n",
      "           0       0.47      0.42      0.44       270\n",
      "           1       0.44      0.31      0.36       301\n",
      "           2       0.17      0.14      0.16       369\n",
      "           3       0.00      0.00      0.00       337\n",
      "           4       0.00      0.00      0.00       267\n",
      "           5       0.29      0.69      0.41       566\n",
      "\n",
      "    accuracy                           0.31      2110\n",
      "   macro avg       0.23      0.26      0.23      2110\n",
      "weighted avg       0.23      0.31      0.25      2110\n",
      "\n"
     ]
    }
   ],
   "source": [
    "# Make predictions\n",
    "predictions = result.predict(X)\n",
    "predicted_classes = predictions.idxmax(axis=1)\n",
    "\n",
    "# Calculate accuracy\n",
    "accuracy = accuracy_score(y, predicted_classes)\n",
    "\n",
    "# Calculate confusion matrix\n",
    "#conf_matrix = confusion_matrix(y, predicted_classes)\n",
    "\n",
    "# Calculate classification report\n",
    "class_report = classification_report(y, predicted_classes, zero_division=0)\n",
    "\n",
    "print(\"Accuracy:\", accuracy)\n",
    "#print(\"Confusion Matrix:\\n\", conf_matrix)\n",
    "print(\"Classification Report:\\n\", class_report)"
   ]
  },
  {
   "cell_type": "markdown",
   "id": "d0b4226c",
   "metadata": {},
   "source": [
    "# Assumptions Analysis of Ordinal Logistic Regression"
   ]
  },
  {
   "cell_type": "markdown",
   "id": "385a9dc1",
   "metadata": {},
   "source": [
    "# - Checking Multicollinearity"
   ]
  },
  {
   "cell_type": "code",
   "execution_count": 17,
   "id": "a0da5060",
   "metadata": {},
   "outputs": [
    {
     "name": "stdout",
     "output_type": "stream",
     "text": [
      "\n",
      "Variance Inflation Factor (VIF) to check multicollinearity:\n",
      "                         Variable        VIF\n",
      "0                           const  56.724595\n",
      "1                          Gender   1.088193\n",
      "2                             Age   1.146815\n",
      "3  Family History with Overweight   1.078639\n",
      "4             How many main meals   1.033759\n",
      "5               Eat Between Meals   1.089934\n",
      "6                  Drinking water   1.064192\n",
      "7           Technological Devices   1.096950\n",
      "8     Usually Transportation Type   1.121958\n"
     ]
    }
   ],
   "source": [
    "# 1. Check for multicollinearity using Variance Inflation Factor (VIF)\n",
    "X_const = add_constant(X)\n",
    "vif = pd.DataFrame()\n",
    "vif[\"Variable\"] = X_const.columns\n",
    "vif[\"VIF\"] = [variance_inflation_factor(X_const.values, i) for i in range(X_const.shape[1])]\n",
    "\n",
    "print(\"\\nVariance Inflation Factor (VIF) to check multicollinearity:\")\n",
    "print(vif)"
   ]
  },
  {
   "cell_type": "markdown",
   "id": "2e5ccaab",
   "metadata": {},
   "source": [
    "# 2. Chi-Square Test"
   ]
  },
  {
   "cell_type": "code",
   "execution_count": 82,
   "id": "faee0446",
   "metadata": {},
   "outputs": [],
   "source": [
    "# Perform Chi-Square tests\n",
    "chi2_results = {}\n",
    "for column in X.columns:\n",
    "    contingency_table = pd.crosstab(data[column], data['Obesity Levels'])\n",
    "    chi2, p, dof, _ = chi2_contingency(contingency_table)\n",
    "    chi2_results[column] = {'Chi-Square': chi2, 'P-Value': p, 'Degrees of Freedom': dof}"
   ]
  },
  {
   "cell_type": "code",
   "execution_count": 83,
   "id": "66998b7e",
   "metadata": {
    "scrolled": true
   },
   "outputs": [
    {
     "name": "stdout",
     "output_type": "stream",
     "text": [
      "Chi-Square Test Results:\n",
      "                                 Chi-Square        P-Value  Degrees of Freedom\n",
      "Gender                           448.859240   8.656413e-95                 5.0\n",
      "Age                             1434.466585  1.426335e-187               195.0\n",
      "Family History with Overweight   586.954388  1.331733e-124                 5.0\n",
      "How many main meals              428.693305   6.365996e-82                15.0\n",
      "Eat Between Meals                693.752661  3.987654e-138                15.0\n",
      "Drinking water                   113.333703   1.132907e-19                10.0\n",
      "Technological Devices            267.005482   1.430062e-51                10.0\n",
      "Usually Transportation Type      242.734102   3.320945e-40                20.0\n"
     ]
    }
   ],
   "source": [
    "# Display results\n",
    "results_df = pd.DataFrame(chi2_results).T\n",
    "results_df = results_df.rename(columns={'chi2': 'Chi-Square', 'p_value': 'P-Value', 'dof': 'Degrees of Freedom'})\n",
    "\n",
    "# Print the results\n",
    "print(\"Chi-Square Test Results:\")\n",
    "print(results_df)"
   ]
  },
  {
   "cell_type": "markdown",
   "id": "345530fc",
   "metadata": {},
   "source": [
    "# Assumptions Analysis of Chi-Square Test "
   ]
  },
  {
   "cell_type": "markdown",
   "id": "6443d4ec",
   "metadata": {},
   "source": [
    "# - Cheking Expected Frequency of Behavioural Factors"
   ]
  },
  {
   "cell_type": "code",
   "execution_count": 84,
   "id": "b6f7d1c4",
   "metadata": {},
   "outputs": [
    {
     "name": "stdout",
     "output_type": "stream",
     "text": [
      "Expected frequencies for 'How many main meals':\n",
      "Obesity Levels                0           1           2           3  \\\n",
      "How many main meals                                                   \n",
      "1                     50.545024   56.348341   69.078199   63.087678   \n",
      "2                     36.469194   40.656398   49.841232   45.518957   \n",
      "3                    174.156398  194.152133  238.013744  217.372986   \n",
      "4                      8.829384    9.843128   12.066825   11.020379   \n",
      "\n",
      "Obesity Levels                4           5  \n",
      "How many main meals                          \n",
      "1                     49.983412  105.957346  \n",
      "2                     36.063981   76.450237  \n",
      "3                    172.221327  365.083412  \n",
      "4                      8.731280   18.509005  \n",
      "\n",
      "--------------------------------------------------\n",
      "\n",
      "Expected frequencies for 'Eat Between Meals':\n",
      "Obesity Levels              0           1           2           3           4  \\\n",
      "Eat Between Meals                                                               \n",
      "0                    6.781991    7.560664    9.268720    8.464929    6.706635   \n",
      "1                   30.966825   34.522275   42.321327   38.651185   30.622749   \n",
      "2                  225.725118  251.641706  308.490995  281.738389  223.217062   \n",
      "3                    6.526066    7.275355    8.918957    8.145498    6.453555   \n",
      "\n",
      "Obesity Levels              5  \n",
      "Eat Between Meals              \n",
      "0                   14.217062  \n",
      "1                   64.915640  \n",
      "2                  473.186730  \n",
      "3                   13.680569  \n",
      "\n",
      "--------------------------------------------------\n",
      "\n",
      "Expected frequencies for 'Drinking water':\n",
      "Obesity Levels           0           1           2           3           4  \\\n",
      "Drinking water                                                               \n",
      "0                98.402844  109.700948  134.483886  122.821327   97.309479   \n",
      "1               150.867299  168.189100  206.185308  188.304739  149.190995   \n",
      "2                20.729858   23.109953   28.330806   25.873934   20.499526   \n",
      "\n",
      "Obesity Levels           5  \n",
      "Drinking water              \n",
      "0               206.281517  \n",
      "1               316.262559  \n",
      "2                43.455924  \n",
      "\n",
      "--------------------------------------------------\n",
      "\n",
      "Expected frequencies for 'Technological Devices':\n",
      "Obesity Levels                  0           1           2           3  \\\n",
      "Technological Devices                                                   \n",
      "0                      196.549763  219.116588  268.618009  245.323223   \n",
      "1                       59.374408   66.191469   81.145024   74.108057   \n",
      "2                       14.075829   15.691943   19.236967   17.568720   \n",
      "\n",
      "Obesity Levels                  4           5  \n",
      "Technological Devices                          \n",
      "0                      194.365877  412.026540  \n",
      "1                       58.714692  124.466351  \n",
      "2                       13.919431   29.507109  \n",
      "\n",
      "--------------------------------------------------\n",
      "\n",
      "Expected frequencies for 'Usually Transportation Type':\n",
      "Obesity Levels                        0           1           2           3  \\\n",
      "Usually Transportation Type                                                   \n",
      "0                             58.478673   65.192891   79.920853   72.990047   \n",
      "1                              0.895735    0.998578    1.224171    1.118009   \n",
      "2                              1.407583    1.569194    1.923697    1.756872   \n",
      "3                            202.052133  225.250711  276.137915  252.190995   \n",
      "4                              7.165877    7.988626    9.793365    8.944076   \n",
      "\n",
      "Obesity Levels                        4           5  \n",
      "Usually Transportation Type                          \n",
      "0                             57.828910  122.588626  \n",
      "1                              0.885782    1.877725  \n",
      "2                              1.391943    2.950711  \n",
      "3                            199.807109  423.561137  \n",
      "4                              7.086256   15.021801  \n",
      "\n",
      "--------------------------------------------------\n",
      "\n"
     ]
    }
   ],
   "source": [
    "# List of behavioral variables\n",
    "behavioral_vars = [\n",
    "    'How many main meals', \n",
    "    'Eat Between Meals', \n",
    "    'Drinking water', \n",
    "    'Technological Devices', \n",
    "    'Usually Transportation Type'\n",
    "]\n",
    "\n",
    "# Function to calculate expected frequencies\n",
    "def calculate_expected_frequencies(data, column, target):\n",
    "    contingency_table = pd.crosstab(data[column], data[target])\n",
    "    chi2, p, dof, expected = chi2_contingency(contingency_table)\n",
    "    \n",
    "    # Convert expected frequencies to a DataFrame\n",
    "    expected_df = pd.DataFrame(expected, index=contingency_table.index, columns=contingency_table.columns)\n",
    "    \n",
    "    return expected_df\n",
    "\n",
    "# Calculate and display expected frequencies for each behavioral variable\n",
    "expected_freqs = {}\n",
    "for column in behavioral_vars:\n",
    "    expected_freqs[column] = calculate_expected_frequencies(data, column, 'Obesity Levels')\n",
    "    print(f\"Expected frequencies for '{column}':\")\n",
    "    print(expected_freqs[column])\n",
    "    print(\"\\n\" + \"-\"*50 + \"\\n\")"
   ]
  },
  {
   "cell_type": "markdown",
   "id": "eb2400ce",
   "metadata": {},
   "source": [
    "# 3.Random Forest Calssifier"
   ]
  },
  {
   "cell_type": "code",
   "execution_count": 85,
   "id": "2700b2ad",
   "metadata": {},
   "outputs": [],
   "source": [
    "# Split the data into training and testing sets\n",
    "from sklearn.model_selection import train_test_split\n",
    "X_train, X_test, y_train, y_test = train_test_split(X, y, test_size=0.2, random_state=42)\n"
   ]
  },
  {
   "cell_type": "code",
   "execution_count": 86,
   "id": "6bfd11cb",
   "metadata": {
    "scrolled": true
   },
   "outputs": [
    {
     "data": {
      "text/html": [
       "<style>#sk-container-id-2 {color: black;}#sk-container-id-2 pre{padding: 0;}#sk-container-id-2 div.sk-toggleable {background-color: white;}#sk-container-id-2 label.sk-toggleable__label {cursor: pointer;display: block;width: 100%;margin-bottom: 0;padding: 0.3em;box-sizing: border-box;text-align: center;}#sk-container-id-2 label.sk-toggleable__label-arrow:before {content: \"▸\";float: left;margin-right: 0.25em;color: #696969;}#sk-container-id-2 label.sk-toggleable__label-arrow:hover:before {color: black;}#sk-container-id-2 div.sk-estimator:hover label.sk-toggleable__label-arrow:before {color: black;}#sk-container-id-2 div.sk-toggleable__content {max-height: 0;max-width: 0;overflow: hidden;text-align: left;background-color: #f0f8ff;}#sk-container-id-2 div.sk-toggleable__content pre {margin: 0.2em;color: black;border-radius: 0.25em;background-color: #f0f8ff;}#sk-container-id-2 input.sk-toggleable__control:checked~div.sk-toggleable__content {max-height: 200px;max-width: 100%;overflow: auto;}#sk-container-id-2 input.sk-toggleable__control:checked~label.sk-toggleable__label-arrow:before {content: \"▾\";}#sk-container-id-2 div.sk-estimator input.sk-toggleable__control:checked~label.sk-toggleable__label {background-color: #d4ebff;}#sk-container-id-2 div.sk-label input.sk-toggleable__control:checked~label.sk-toggleable__label {background-color: #d4ebff;}#sk-container-id-2 input.sk-hidden--visually {border: 0;clip: rect(1px 1px 1px 1px);clip: rect(1px, 1px, 1px, 1px);height: 1px;margin: -1px;overflow: hidden;padding: 0;position: absolute;width: 1px;}#sk-container-id-2 div.sk-estimator {font-family: monospace;background-color: #f0f8ff;border: 1px dotted black;border-radius: 0.25em;box-sizing: border-box;margin-bottom: 0.5em;}#sk-container-id-2 div.sk-estimator:hover {background-color: #d4ebff;}#sk-container-id-2 div.sk-parallel-item::after {content: \"\";width: 100%;border-bottom: 1px solid gray;flex-grow: 1;}#sk-container-id-2 div.sk-label:hover label.sk-toggleable__label {background-color: #d4ebff;}#sk-container-id-2 div.sk-serial::before {content: \"\";position: absolute;border-left: 1px solid gray;box-sizing: border-box;top: 0;bottom: 0;left: 50%;z-index: 0;}#sk-container-id-2 div.sk-serial {display: flex;flex-direction: column;align-items: center;background-color: white;padding-right: 0.2em;padding-left: 0.2em;position: relative;}#sk-container-id-2 div.sk-item {position: relative;z-index: 1;}#sk-container-id-2 div.sk-parallel {display: flex;align-items: stretch;justify-content: center;background-color: white;position: relative;}#sk-container-id-2 div.sk-item::before, #sk-container-id-2 div.sk-parallel-item::before {content: \"\";position: absolute;border-left: 1px solid gray;box-sizing: border-box;top: 0;bottom: 0;left: 50%;z-index: -1;}#sk-container-id-2 div.sk-parallel-item {display: flex;flex-direction: column;z-index: 1;position: relative;background-color: white;}#sk-container-id-2 div.sk-parallel-item:first-child::after {align-self: flex-end;width: 50%;}#sk-container-id-2 div.sk-parallel-item:last-child::after {align-self: flex-start;width: 50%;}#sk-container-id-2 div.sk-parallel-item:only-child::after {width: 0;}#sk-container-id-2 div.sk-dashed-wrapped {border: 1px dashed gray;margin: 0 0.4em 0.5em 0.4em;box-sizing: border-box;padding-bottom: 0.4em;background-color: white;}#sk-container-id-2 div.sk-label label {font-family: monospace;font-weight: bold;display: inline-block;line-height: 1.2em;}#sk-container-id-2 div.sk-label-container {text-align: center;}#sk-container-id-2 div.sk-container {/* jupyter's `normalize.less` sets `[hidden] { display: none; }` but bootstrap.min.css set `[hidden] { display: none !important; }` so we also need the `!important` here to be able to override the default hidden behavior on the sphinx rendered scikit-learn.org. See: https://github.com/scikit-learn/scikit-learn/issues/21755 */display: inline-block !important;position: relative;}#sk-container-id-2 div.sk-text-repr-fallback {display: none;}</style><div id=\"sk-container-id-2\" class=\"sk-top-container\"><div class=\"sk-text-repr-fallback\"><pre>RandomForestClassifier(random_state=42)</pre><b>In a Jupyter environment, please rerun this cell to show the HTML representation or trust the notebook. <br />On GitHub, the HTML representation is unable to render, please try loading this page with nbviewer.org.</b></div><div class=\"sk-container\" hidden><div class=\"sk-item\"><div class=\"sk-estimator sk-toggleable\"><input class=\"sk-toggleable__control sk-hidden--visually\" id=\"sk-estimator-id-2\" type=\"checkbox\" checked><label for=\"sk-estimator-id-2\" class=\"sk-toggleable__label sk-toggleable__label-arrow\">RandomForestClassifier</label><div class=\"sk-toggleable__content\"><pre>RandomForestClassifier(random_state=42)</pre></div></div></div></div></div>"
      ],
      "text/plain": [
       "RandomForestClassifier(random_state=42)"
      ]
     },
     "execution_count": 86,
     "metadata": {},
     "output_type": "execute_result"
    }
   ],
   "source": [
    "# Train the Random Forest classifier\n",
    "rf_model = RandomForestClassifier(n_estimators=100, random_state=42)\n",
    "rf_model.fit(X_train, y_train)"
   ]
  },
  {
   "cell_type": "code",
   "execution_count": 87,
   "id": "7cdad6d2",
   "metadata": {},
   "outputs": [],
   "source": [
    "# Get feature importances\n",
    "feature_importances = rf_model.feature_importances_\n",
    "features = X.columns"
   ]
  },
  {
   "cell_type": "code",
   "execution_count": 88,
   "id": "c7ef7be0",
   "metadata": {},
   "outputs": [],
   "source": [
    "# Create a DataFrame for visualization\n",
    "importance_df = pd.DataFrame({'Feature': features, 'Importance': feature_importances})"
   ]
  },
  {
   "cell_type": "code",
   "execution_count": 89,
   "id": "722a1d99",
   "metadata": {},
   "outputs": [],
   "source": [
    "# Sort the DataFrame by importance\n",
    "importance_df = importance_df.sort_values(by='Importance', ascending=False)"
   ]
  },
  {
   "cell_type": "code",
   "execution_count": 90,
   "id": "61396c74",
   "metadata": {
    "scrolled": false
   },
   "outputs": [
    {
     "name": "stdout",
     "output_type": "stream",
     "text": [
      "\n",
      "Feature Importances:\n",
      "                          Feature  Importance\n",
      "1                             Age    0.356368\n",
      "3             How many main meals    0.113464\n",
      "5                  Drinking water    0.100448\n",
      "0                          Gender    0.099914\n",
      "4               Eat Between Meals    0.093319\n",
      "7     Usually Transportation Type    0.085632\n",
      "6           Technological Devices    0.079209\n",
      "2  Family History with Overweight    0.071645\n"
     ]
    }
   ],
   "source": [
    "# Display the feature importances\n",
    "print(\"\\nFeature Importances:\")\n",
    "print(importance_df)"
   ]
  },
  {
   "cell_type": "markdown",
   "id": "c82d0bce",
   "metadata": {},
   "source": [
    "# Assumption Analysis of Random Forest"
   ]
  },
  {
   "cell_type": "markdown",
   "id": "c7328da2",
   "metadata": {},
   "source": [
    "# - No Assumption of Multicollinerity"
   ]
  },
  {
   "cell_type": "code",
   "execution_count": 50,
   "id": "5917cc91",
   "metadata": {
    "scrolled": true
   },
   "outputs": [
    {
     "name": "stdout",
     "output_type": "stream",
     "text": [
      "\n",
      "Variance Inflation Factor (VIF):\n",
      "                         Variable        VIF\n",
      "0                           const  56.257450\n",
      "1                          Gender   1.085476\n",
      "2                             Age   1.153825\n",
      "3  Family History with Overweight   1.100773\n",
      "4             How many main meals   1.039608\n",
      "5               Eat Between Meals   1.084278\n",
      "6                  Drinking water   1.064456\n",
      "7           Technological Devices   1.087985\n",
      "8     Usually Transportation Type   1.127159\n"
     ]
    }
   ],
   "source": [
    "X_const = add_constant(X_train)  # Add a constant term for VIF calculation\n",
    "vif = pd.DataFrame()\n",
    "vif[\"Variable\"] = X_const.columns\n",
    "vif[\"VIF\"] = [variance_inflation_factor(X_const.values, i) for i in range(X_const.shape[1])]\n",
    "\n",
    "print(\"\\nVariance Inflation Factor (VIF):\")\n",
    "print(vif)"
   ]
  },
  {
   "cell_type": "markdown",
   "id": "e9c55980",
   "metadata": {},
   "source": [
    "# - No Assumption of Linear Relationship"
   ]
  },
  {
   "cell_type": "code",
   "execution_count": 67,
   "id": "ddb0d5ba",
   "metadata": {},
   "outputs": [
    {
     "data": {
      "image/png": "[encoded data removed]",
      "text/plain": [
       "<Figure size 640x480 with 2 Axes>"
      ]
     },
     "metadata": {},
     "output_type": "display_data"
    }
   ],
   "source": [
    "# Heatmap of correlations between variables\n",
    "corr = data.corr()\n",
    "sns.heatmap(corr, annot=True, cmap='coolwarm', fmt='.1f')\n",
    "plt.title('Correlation Heatmap')\n",
    "plt.show()"
   ]
  },
  {
   "cell_type": "code",
   "execution_count": null,
   "id": "8af1256c",
   "metadata": {},
   "outputs": [],
   "source": []
  }
 ],
 "metadata": {
  "kernelspec": {
   "display_name": "Python 3 (ipykernel)",
   "language": "python",
   "name": "python3"
  },
  "language_info": {
   "codemirror_mode": {
    "name": "ipython",
    "version": 3
   },
   "file_extension": ".py",
   "mimetype": "text/x-python",
   "name": "python",
   "nbconvert_exporter": "python",
   "pygments_lexer": "ipython3",
   "version": "3.11.5"
  }
 },
 "nbformat": 4,
 "nbformat_minor": 5
}
